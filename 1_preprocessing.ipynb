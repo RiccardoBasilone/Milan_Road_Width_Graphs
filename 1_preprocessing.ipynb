{
 "cells": [
  {
   "cell_type": "markdown",
   "id": "91f567a8-d5cd-4e5e-8bc2-89769aaafd1d",
   "metadata": {},
   "source": [
    "# Notebook1: Preprocessing\n",
    "In this notebook: \n",
    "We preprocess the provided polygonal dataset and from it we create a networkx Graph of the city of Milan.  \n",
    "Intersections are the nodes of the network, while the roads connecting them are the edges.  \n",
    "Edge attributes assigned are length, width, and betweenness.    \n",
    "We save the final graph, along with the preprocessed polygonal dataset, to a .gml file.  \n",
    "For simulations of bike lane networks on this network, see notebook 2: Simulations.ipynb.  \n",
    "For analysis of the simulations, see notebook 3: Network_Analysis.ipynb.  \n",
    "The network can be analyzed in network_analysis.ipynb.  \n",
    "\n",
    "Steps:\n",
    "1) read raw .shp file as geodataframe\n",
    "2) remove and rename columns, assign IDs\n",
    "3) dissolve adjacent roads\n",
    "4) calculate lengths and widths\n",
    "5) create edgelist dataframe\n",
    "6) create graph and calculate edge betweenness\n",
    "7) perfected betweenness calculation\n",
    "8) Save data\n"
   ]
  },
  {
   "cell_type": "code",
   "execution_count": null,
   "id": "9c1f83b9-b6dd-45d4-8588-16e5dfc85975",
   "metadata": {},
   "outputs": [
    {
     "data": {
      "text/plain": [
       "<module 'utils' from '/data/home/basilone/sony/Milan_Graphs_Basilone/utils.py'>"
      ]
     },
     "execution_count": 1,
     "metadata": {},
     "output_type": "execute_result"
    }
   ],
   "source": [
    "import numpy as np\n",
    "import pandas as pd\n",
    "import geopandas as gpd\n",
    "import contextily as cx\n",
    "import matplotlib.pyplot as plt\n",
    "import networkx as nx\n",
    "import igraph as ig\n",
    "import utils"
   ]
  },
  {
   "cell_type": "markdown",
   "id": "deed9007-b58e-4b6b-90fc-f7080db4c765",
   "metadata": {},
   "source": [
    "## Read file"
   ]
  },
  {
   "cell_type": "code",
   "execution_count": null,
   "id": "c5f2375f-f35f-4674-8b29-9e2c5bdfef90",
   "metadata": {},
   "outputs": [],
   "source": [
    "vehicle_path = 'MILANO/AC_VEI_AC_VEI_SUP_SR.shp'"
   ]
  },
  {
   "cell_type": "code",
   "execution_count": 3,
   "id": "9c65c5b7-d69e-49c6-a1b5-0f32c8fbaec8",
   "metadata": {},
   "outputs": [],
   "source": [
    "gdf1 = gpd.read_file(vehicle_path)"
   ]
  },
  {
   "cell_type": "code",
   "execution_count": 4,
   "id": "b6d65d33",
   "metadata": {},
   "outputs": [
    {
     "data": {
      "text/html": [
       "<div>\n",
       "<style scoped>\n",
       "    .dataframe tbody tr th:only-of-type {\n",
       "        vertical-align: middle;\n",
       "    }\n",
       "\n",
       "    .dataframe tbody tr th {\n",
       "        vertical-align: top;\n",
       "    }\n",
       "\n",
       "    .dataframe thead th {\n",
       "        text-align: right;\n",
       "    }\n",
       "</style>\n",
       "<table border=\"1\" class=\"dataframe\">\n",
       "  <thead>\n",
       "    <tr style=\"text-align: right;\">\n",
       "      <th></th>\n",
       "      <th>NOME</th>\n",
       "      <th>SUBREGID</th>\n",
       "      <th>CLASSREF</th>\n",
       "      <th>AC_VEI_FON</th>\n",
       "      <th>AC_VEI_LIV</th>\n",
       "      <th>AC_VEI_SED</th>\n",
       "      <th>AC_VEI_ZON</th>\n",
       "      <th>geometry</th>\n",
       "    </tr>\n",
       "  </thead>\n",
       "  <tbody>\n",
       "    <tr>\n",
       "      <th>0</th>\n",
       "      <td>VIA TOMMASO GULLI</td>\n",
       "      <td>AC_VEI_SR_29386</td>\n",
       "      <td>AC_VEI_10701</td>\n",
       "      <td>01</td>\n",
       "      <td>02</td>\n",
       "      <td>01</td>\n",
       "      <td>04</td>\n",
       "      <td>POLYGON Z ((510264.228 5034645.372 121.18, 510...</td>\n",
       "    </tr>\n",
       "    <tr>\n",
       "      <th>1</th>\n",
       "      <td>VIA ODOARDO TABACCHI</td>\n",
       "      <td>AC_VEI_SR_22800</td>\n",
       "      <td>AC_VEI_9928</td>\n",
       "      <td>01</td>\n",
       "      <td>02</td>\n",
       "      <td>01</td>\n",
       "      <td>04</td>\n",
       "      <td>POLYGON Z ((514556.007 5032723.024 113.789, 51...</td>\n",
       "    </tr>\n",
       "    <tr>\n",
       "      <th>2</th>\n",
       "      <td>VIA GIAN CARLO CASTELBARCO</td>\n",
       "      <td>AC_VEI_SR_22801</td>\n",
       "      <td>AC_VEI_9942</td>\n",
       "      <td>01</td>\n",
       "      <td>02</td>\n",
       "      <td>01</td>\n",
       "      <td>04</td>\n",
       "      <td>POLYGON Z ((514555.816 5032740.825 114.222, 51...</td>\n",
       "    </tr>\n",
       "    <tr>\n",
       "      <th>3</th>\n",
       "      <td>VIA ODOARDO TABACCHI</td>\n",
       "      <td>AC_VEI_SR_22802</td>\n",
       "      <td>AC_VEI_9928</td>\n",
       "      <td>01</td>\n",
       "      <td>02</td>\n",
       "      <td>01</td>\n",
       "      <td>04</td>\n",
       "      <td>POLYGON Z ((514552.787 5032740.493 114.214, 51...</td>\n",
       "    </tr>\n",
       "    <tr>\n",
       "      <th>4</th>\n",
       "      <td>VIA ROBERTO SARFATTI</td>\n",
       "      <td>AC_VEI_SR_22803</td>\n",
       "      <td>AC_VEI_9918</td>\n",
       "      <td>01</td>\n",
       "      <td>02</td>\n",
       "      <td>01</td>\n",
       "      <td>04</td>\n",
       "      <td>POLYGON Z ((514645.162 5032753.152 114.286, 51...</td>\n",
       "    </tr>\n",
       "  </tbody>\n",
       "</table>\n",
       "</div>"
      ],
      "text/plain": [
       "                         NOME         SUBREGID      CLASSREF AC_VEI_FON  \\\n",
       "0           VIA TOMMASO GULLI  AC_VEI_SR_29386  AC_VEI_10701         01   \n",
       "1        VIA ODOARDO TABACCHI  AC_VEI_SR_22800   AC_VEI_9928         01   \n",
       "2  VIA GIAN CARLO CASTELBARCO  AC_VEI_SR_22801   AC_VEI_9942         01   \n",
       "3        VIA ODOARDO TABACCHI  AC_VEI_SR_22802   AC_VEI_9928         01   \n",
       "4        VIA ROBERTO SARFATTI  AC_VEI_SR_22803   AC_VEI_9918         01   \n",
       "\n",
       "  AC_VEI_LIV AC_VEI_SED AC_VEI_ZON  \\\n",
       "0         02         01         04   \n",
       "1         02         01         04   \n",
       "2         02         01         04   \n",
       "3         02         01         04   \n",
       "4         02         01         04   \n",
       "\n",
       "                                            geometry  \n",
       "0  POLYGON Z ((510264.228 5034645.372 121.18, 510...  \n",
       "1  POLYGON Z ((514556.007 5032723.024 113.789, 51...  \n",
       "2  POLYGON Z ((514555.816 5032740.825 114.222, 51...  \n",
       "3  POLYGON Z ((514552.787 5032740.493 114.214, 51...  \n",
       "4  POLYGON Z ((514645.162 5032753.152 114.286, 51...  "
      ]
     },
     "execution_count": 4,
     "metadata": {},
     "output_type": "execute_result"
    }
   ],
   "source": [
    "gdf1.head()"
   ]
  },
  {
   "cell_type": "markdown",
   "id": "1418b6fd-74b7-47ed-a330-bc7e95ea8d45",
   "metadata": {},
   "source": [
    "We have\n",
    "- NOME: name of the region. if it's a street it will be \"via ...\", but it could also be \"Parcheggio\", or others.\n",
    "- SUBREGID is a unique identifier for the polygon.\n",
    "- AC_VEI_FON is either 01 (paved street) or 02 (non paved)\n",
    "- AC_VEI_LIV is either 01 (in an underpass) or 02(not in an underpass)\n",
    "- AC_VEI_SED is either 01 (street level), 02 (on a bridge of sorts), 03 (in a gallery), 04 (in a dam)\n",
    "- AC_VEI_ZON classifies the type of region according to whether it's a road, a roundabout, a parking lot etc. This is useful for filtering data the way we need to."
   ]
  },
  {
   "cell_type": "markdown",
   "id": "adb9e6e4-48e2-4c04-aa0e-d1d5dc58443b",
   "metadata": {},
   "source": [
    "## Initial cleanup"
   ]
  },
  {
   "cell_type": "code",
   "execution_count": 5,
   "id": "7c254580-225e-47be-aed6-769a4793562b",
   "metadata": {},
   "outputs": [],
   "source": [
    "#initial cleaning \n",
    "\n",
    "gdf1.drop(['AC_VEI_FON', 'CLASSREF'], axis = 1, inplace = True)\n",
    "gdf1.rename(columns={'SUBREGID':'ID', 'NOME': 'NAME', 'AC_VEI_ZON': 'TYPE',\n",
    "                     'AC_VEI_SED': 'PLACEMENT', 'AC_VEI_LIV': 'LEVEL'}, inplace = True)"
   ]
  },
  {
   "cell_type": "code",
   "execution_count": 6,
   "id": "a76fbbd8-b2a7-4636-bbfb-f0b780cfd0a4",
   "metadata": {},
   "outputs": [],
   "source": [
    "def rename(df, column1, column2):\n",
    "    mapping1 = {\n",
    "        \"01\": \"street level\",\n",
    "        \"02\": \"bridge\",\n",
    "        \"03\": \"gallery\",\n",
    "        \"04\": \"dam\"\n",
    "    }\n",
    "\n",
    "    mapping2 = {\n",
    "        \"01\": \"underpass\",\n",
    "        \"02\": \"not underpass\"\n",
    "    }\n",
    "    df[column1] = df[column1].map(mapping1).fillna(df[column1])\n",
    "    df[column2] = df[column2].map(mapping2).fillna(df[column2])\n",
    "    df.ID = \"ID_\" + df.ID.astype(str)\n",
    "    return df\n",
    "\n",
    "def transform_id(id_str):\n",
    "    return 'ID_' + id_str.split('_')[-1]\n",
    "\n"
   ]
  },
  {
   "cell_type": "code",
   "execution_count": 7,
   "id": "e86a559b",
   "metadata": {},
   "outputs": [],
   "source": [
    "gdf1 = rename(gdf1,\"PLACEMENT\", \"LEVEL\")\n",
    "gdf1['ID'] = gdf1['ID'].apply(transform_id)"
   ]
  },
  {
   "cell_type": "code",
   "execution_count": 8,
   "id": "027874c1-a392-4a9a-8930-4145491ca911",
   "metadata": {},
   "outputs": [],
   "source": [
    "# filter out everything that is not a road or an intersection\n",
    "# portions of road (e.g not intersections or parking lots) start with 01 in TYPE\n",
    "# intersections, squares, and roundabouts start with 02 in TYPE\n",
    "\n",
    "pattern = ('01','02')\n",
    "gdf1 = gdf1.loc[gdf1.TYPE.str.startswith(pattern)].copy()"
   ]
  },
  {
   "cell_type": "code",
   "execution_count": 9,
   "id": "0b679fce-203d-4cbf-8d92-a48e62e48391",
   "metadata": {},
   "outputs": [],
   "source": [
    "# change crs to italian one.\n",
    "# OSM_crs = 3857\n",
    "ITALY_crs = 6875\n",
    "gdf1.to_crs(epsg=ITALY_crs, inplace = True)\n",
    "\n"
   ]
  },
  {
   "cell_type": "code",
   "execution_count": 10,
   "id": "e194ee39-4c97-4940-988f-9b95ed1daaff",
   "metadata": {},
   "outputs": [
    {
     "data": {
      "text/html": [
       "<div>\n",
       "<style scoped>\n",
       "    .dataframe tbody tr th:only-of-type {\n",
       "        vertical-align: middle;\n",
       "    }\n",
       "\n",
       "    .dataframe tbody tr th {\n",
       "        vertical-align: top;\n",
       "    }\n",
       "\n",
       "    .dataframe thead th {\n",
       "        text-align: right;\n",
       "    }\n",
       "</style>\n",
       "<table border=\"1\" class=\"dataframe\">\n",
       "  <thead>\n",
       "    <tr style=\"text-align: right;\">\n",
       "      <th></th>\n",
       "      <th>NAME</th>\n",
       "      <th>ID</th>\n",
       "      <th>LEVEL</th>\n",
       "      <th>PLACEMENT</th>\n",
       "      <th>TYPE</th>\n",
       "      <th>geometry</th>\n",
       "    </tr>\n",
       "  </thead>\n",
       "  <tbody>\n",
       "    <tr>\n",
       "      <th>10</th>\n",
       "      <td>VIA LORENTEGGIO</td>\n",
       "      <td>ID_22809</td>\n",
       "      <td>not underpass</td>\n",
       "      <td>street level</td>\n",
       "      <td>0205</td>\n",
       "      <td>POLYGON Z ((6776304.852 5031392.755 117.813, 6...</td>\n",
       "    </tr>\n",
       "    <tr>\n",
       "      <th>11</th>\n",
       "      <td>VIA LORENTEGGIO</td>\n",
       "      <td>ID_22810</td>\n",
       "      <td>not underpass</td>\n",
       "      <td>street level</td>\n",
       "      <td>0205</td>\n",
       "      <td>POLYGON Z ((6775647.989 5031111.851 117.016, 6...</td>\n",
       "    </tr>\n",
       "    <tr>\n",
       "      <th>12</th>\n",
       "      <td>VIA LORENTEGGIO</td>\n",
       "      <td>ID_22811</td>\n",
       "      <td>not underpass</td>\n",
       "      <td>street level</td>\n",
       "      <td>0205</td>\n",
       "      <td>POLYGON Z ((6777349.132 5031825.257 117.638, 6...</td>\n",
       "    </tr>\n",
       "    <tr>\n",
       "      <th>13</th>\n",
       "      <td>VIA LORENTEGGIO</td>\n",
       "      <td>ID_22812</td>\n",
       "      <td>not underpass</td>\n",
       "      <td>street level</td>\n",
       "      <td>0205</td>\n",
       "      <td>POLYGON Z ((6776583.882 5031489.752 117.567, 6...</td>\n",
       "    </tr>\n",
       "    <tr>\n",
       "      <th>14</th>\n",
       "      <td>VIA LORENTEGGIO</td>\n",
       "      <td>ID_22813</td>\n",
       "      <td>not underpass</td>\n",
       "      <td>street level</td>\n",
       "      <td>0205</td>\n",
       "      <td>POLYGON Z ((6774677.188 5030729.219 115.947, 6...</td>\n",
       "    </tr>\n",
       "  </tbody>\n",
       "</table>\n",
       "</div>"
      ],
      "text/plain": [
       "               NAME        ID          LEVEL     PLACEMENT  TYPE  \\\n",
       "10  VIA LORENTEGGIO  ID_22809  not underpass  street level  0205   \n",
       "11  VIA LORENTEGGIO  ID_22810  not underpass  street level  0205   \n",
       "12  VIA LORENTEGGIO  ID_22811  not underpass  street level  0205   \n",
       "13  VIA LORENTEGGIO  ID_22812  not underpass  street level  0205   \n",
       "14  VIA LORENTEGGIO  ID_22813  not underpass  street level  0205   \n",
       "\n",
       "                                             geometry  \n",
       "10  POLYGON Z ((6776304.852 5031392.755 117.813, 6...  \n",
       "11  POLYGON Z ((6775647.989 5031111.851 117.016, 6...  \n",
       "12  POLYGON Z ((6777349.132 5031825.257 117.638, 6...  \n",
       "13  POLYGON Z ((6776583.882 5031489.752 117.567, 6...  \n",
       "14  POLYGON Z ((6774677.188 5030729.219 115.947, 6...  "
      ]
     },
     "execution_count": 10,
     "metadata": {},
     "output_type": "execute_result"
    }
   ],
   "source": [
    "gdf1.head()"
   ]
  },
  {
   "cell_type": "markdown",
   "id": "8ae07780-736b-4cc1-916f-0ff530d1e1db",
   "metadata": {
    "jp-MarkdownHeadingCollapsed": true
   },
   "source": [
    "### Removing motorways, ringroads\n",
    "This is specific to this dataset, and unfortunately difficult to generalize at this level. After extensive testing by hand, we find that it is crucial to remove these roads in order to obtain a usable network without problems."
   ]
  },
  {
   "cell_type": "code",
   "execution_count": 11,
   "id": "46413592-3139-4290-9b40-19b8d99aeade",
   "metadata": {},
   "outputs": [],
   "source": [
    "gdf = gdf1.copy()\n",
    "gdf = gdf.loc[~gdf['NAME'].str.contains('TANGENZIALE', regex = False)] #removing tangenziali\n",
    "gdf = gdf.loc[~gdf['NAME'].str.contains('VIA DEL MARE', regex = False)] #removing more useless roads\n",
    "gdf = gdf.loc[~(gdf['NAME'].str.contains('STRADA SENZA', regex = False)) | (gdf['NAME'].str.contains('324', regex = False))]\n",
    "gdf = gdf.loc[~gdf['NAME'].str.contains('STRADA_SENZA', regex = False)]"
   ]
  },
  {
   "cell_type": "markdown",
   "id": "bb6303f9-7ea1-4d6e-b4e6-ed49173e2950",
   "metadata": {},
   "source": [
    "## Dissolve adjacent roads"
   ]
  },
  {
   "cell_type": "markdown",
   "id": "54555d06-4be8-4903-9853-f0eeadaad8c7",
   "metadata": {},
   "source": [
    "Each road geometry (TYPE 01) must be touching two intersection geometries (TYPE 02) so that they can be assigned as edges of those intersection nodes.  \n",
    "Right now, many adjacent road geometries exist, which must be dissolved. The dissolver function detects chains of adjacent geometries and dissolves them into one.  \n",
    "Testing reveals that for this dataset, it makes sense to consider geometries with distance < 0.1m as touching.  \n",
    "Finally, before dissolving all the adjacent road groups, we must handle some problematic cases manually (namely bridges and overpasses)."
   ]
  },
  {
   "cell_type": "markdown",
   "id": "621346c4-38d6-4a03-be3c-38aaabab5133",
   "metadata": {},
   "source": [
    "### some exception handling of single streets that give problems\n",
    "first Cavalcavia Schiavoni and Piazza maggi"
   ]
  },
  {
   "cell_type": "code",
   "execution_count": 12,
   "id": "1b03e946-e84f-483e-bf04-559bbd580021",
   "metadata": {},
   "outputs": [],
   "source": [
    "#make piazza maggi into one block\n",
    "temp = gdf1[gdf1.NAME == 'PIAZZA GIAN ANTONIO MAGGI']\n",
    "temp = temp.dissolve(by = 'NAME', as_index = False)\n",
    "\n",
    "gdf = gdf[gdf['NAME'] != 'PIAZZA GIAN ANTONIO MAGGI']\n",
    "gdf = pd.concat([gdf,temp])\n",
    "gdf.reset_index(inplace = True, drop = True)\n",
    "\n",
    "#then dull some edges\n",
    "gdf.loc[gdf['ID'] == 'ID_30921', 'geometry'] = gdf.loc[gdf['ID'] == 'ID_30921', 'geometry'].buffer(-0.8, join_style=1).buffer(0.3, join_style = 1) #dulls corners\n",
    "gdf.loc[gdf['ID'] == 'ID_35262', 'geometry'] = gdf.loc[gdf['ID'] == 'ID_35262', 'geometry'].buffer(-0.8, join_style=1).buffer(0.3, join_style = 1) #dulls corners\n",
    "gdf.loc[gdf['ID'] == 'ID_30485', 'geometry'] = gdf.loc[gdf['ID'] == 'ID_30485', 'geometry'].buffer(-0.8, join_style=1).buffer(0.3, join_style = 1) #dulls corners\n",
    "gdf.loc[gdf['ID'] == 'ID_30132', 'geometry'] = gdf.loc[gdf['ID'] == 'ID_30132', 'geometry'].buffer(-0.8, join_style=1).buffer(0.3, join_style = 1) #dulls corners\n",
    "gdf.loc[gdf['ID'] == 'ID_30208', 'geometry'] = gdf.loc[gdf['ID'] == 'ID_30208', 'geometry'].buffer(-0.8, join_style=1).buffer(0.3, join_style = 1) #dulls corners\n",
    "gdf.loc[gdf['ID'] == 'ID_30210', 'geometry'] = gdf.loc[gdf['ID'] == 'ID_30210', 'geometry'].buffer(-0.8, join_style=1).buffer(0.3, join_style = 1) #dulls corners\n",
    "gdf.loc[gdf['ID'] == 'ID_30211', 'geometry'] = gdf.loc[gdf['ID'] == 'ID_30211', 'geometry'].buffer(-0.8, join_style=1).buffer(0.3, join_style = 1) #dulls corners\n",
    "gdf.loc[gdf['ID'] == 'ID_30212', 'geometry'] = gdf.loc[gdf['ID'] == 'ID_30212', 'geometry'].buffer(-0.8, join_style=1).buffer(0.3, join_style = 1) #dulls corners\n",
    "gdf.loc[gdf['ID'] == 'ID_30206', 'geometry'] = gdf.loc[gdf['ID'] == 'ID_30206', 'geometry'].buffer(-0.8, join_style=1).buffer(0.3, join_style = 1) #dulls corners\n",
    "\n",
    "#and bulge some corners\n",
    "gdf.loc[gdf['ID'] == 'ID_25090', 'geometry'] = gdf.loc[gdf['ID'] == 'ID_25090', 'geometry'].buffer(0.5, join_style = 1)\n",
    "gdf.loc[gdf['ID'] == 'ID_25093', 'geometry'] = gdf.loc[gdf['ID'] == 'ID_25093', 'geometry'].buffer(0.5, join_style = 1) \n",
    "gdf.loc[gdf['ID'] == 'ID_25092', 'geometry'] = gdf.loc[gdf['ID'] == 'ID_25092', 'geometry'].buffer(0.5, join_style = 1)\n",
    "gdf.loc[gdf['ID'] == 'ID_32131', 'geometry'] = gdf.loc[gdf['ID'] == 'ID_32131', 'geometry'].buffer(0.5, join_style = 1) \n",
    "gdf.loc[gdf['ID'] == 'ID_32132', 'geometry'] = gdf.loc[gdf['ID'] == 'ID_32132', 'geometry'].buffer(0.5, join_style = 1) \n",
    "gdf.loc[gdf['ID'] == 'ID_29939', 'geometry'] = gdf.loc[gdf['ID'] == 'ID_29939', 'geometry'].buffer(0.5, join_style = 1)\n",
    "gdf.loc[gdf['ID'] == 'ID_24774', 'geometry'] = gdf.loc[gdf['ID'] == 'ID_24774', 'geometry'].buffer(0.5, join_style = 1)\n",
    "gdf.loc[gdf['ID'] == 'ID_24648', 'geometry'] = gdf.loc[gdf['ID'] == 'ID_24648', 'geometry'].buffer(0.5, join_style = 1)"
   ]
  },
  {
   "cell_type": "markdown",
   "id": "925dcd7f-2b7a-4156-97e7-043c11288a3f",
   "metadata": {},
   "source": [
    "Next, Cavalcavia Renato Serra leads to some problems"
   ]
  },
  {
   "cell_type": "code",
   "execution_count": 13,
   "id": "d697c8da-0b08-497a-aa31-640b71c7f90b",
   "metadata": {},
   "outputs": [],
   "source": [
    "#cavalcavia renato serra\n",
    "gdf = gdf[gdf.ID != 'ID_3474']\n",
    "gdf = gdf[gdf.ID != 'ID_3473']\n",
    "gdf = gdf[gdf.ID != 'ID_2922']\n",
    "gdf = gdf[gdf.ID != 'ID_2921']\n",
    "gdf = gdf[gdf.ID != 'ID_3853']\n",
    "gdf = gdf[gdf.ID != 'ID_3852']\n",
    "gdf = gdf[gdf.ID != 'ID_3461']\n",
    "gdf = gdf[gdf.ID != 'ID_3459']\n",
    "gdf = gdf[gdf.ID != 'ID_3040']\n",
    "gdf = gdf[gdf.ID != 'ID_2994']\n",
    "gdf = gdf[gdf.ID != 'ID_1839']\n",
    "gdf = gdf[gdf.ID != 'ID_1840']\n",
    "#dull some edges\n",
    "gdf.loc[gdf['ID'] == 'ID_1845', 'geometry'] = gdf.loc[gdf['ID'] == 'ID_1845', 'geometry'].buffer(-0.8, join_style=1).buffer(0.3, join_style = 1) #dulls corners\n",
    "gdf.loc[gdf['ID'] == 'ID_1843', 'geometry'] = gdf.loc[gdf['ID'] == 'ID_1843', 'geometry'].buffer(-0.8, join_style=1).buffer(0.3, join_style = 1) #dulls corners\n",
    "#and add bulge to the intersections\n",
    "gdf.loc[gdf['ID'] == 'ID_544', 'geometry'] = gdf.loc[gdf['ID'] == 'ID_544', 'geometry'].buffer(0.5, join_style = 1) #dulls corners\n",
    "gdf.loc[gdf['ID'] == 'ID_573', 'geometry'] = gdf.loc[gdf['ID'] == 'ID_573', 'geometry'].buffer(0.5, join_style = 1) #dulls corners"
   ]
  },
  {
   "cell_type": "markdown",
   "id": "2c666d51-e547-4d41-90f1-735fcc77bcd2",
   "metadata": {},
   "source": [
    "next sopraelevata monteceneri\n"
   ]
  },
  {
   "cell_type": "code",
   "execution_count": 14,
   "id": "27e4c776-8678-4539-b715-aea575dce9b6",
   "metadata": {},
   "outputs": [],
   "source": [
    "gdf = gdf[gdf.ID != 'ID_3850']\n",
    "gdf = gdf[gdf.ID != 'ID_3851']"
   ]
  },
  {
   "cell_type": "markdown",
   "id": "8c2bb741-bb8f-4f41-80f0-b7a2e1f84e7d",
   "metadata": {},
   "source": [
    "now via rubattino"
   ]
  },
  {
   "cell_type": "code",
   "execution_count": 15,
   "id": "f7216712-793b-4848-87d9-514c6c499829",
   "metadata": {},
   "outputs": [],
   "source": [
    "#dull some edges\n",
    "gdf.loc[gdf['ID'] == 'ID_19697', 'geometry'] = gdf.loc[gdf['ID'] == 'ID_19697', 'geometry'].buffer(-0.8, join_style=1).buffer(0.3, join_style = 1) #dulls corners\n",
    "gdf.loc[gdf['ID'] == 'ID_19700', 'geometry'] = gdf.loc[gdf['ID'] == 'ID_19700', 'geometry'].buffer(-0.8, join_style=1).buffer(0.3, join_style = 1) #dulls corners\n",
    "gdf.loc[gdf['ID'] == 'ID_19701', 'geometry'] = gdf.loc[gdf['ID'] == 'ID_19701', 'geometry'].buffer(-0.8, join_style=1).buffer(0.3, join_style = 1) #dulls corners\n",
    "#and add bulge to the intersections\n",
    "gdf.loc[gdf['ID'] == 'ID_9534', 'geometry'] = gdf.loc[gdf['ID'] == 'ID_9534', 'geometry'].buffer(0.5, join_style = 1) #dulls corners\n",
    "gdf.loc[gdf['ID'] == 'ID_9404', 'geometry'] = gdf.loc[gdf['ID'] == 'ID_9404', 'geometry'].buffer(0.5, join_style = 1) #dulls corners"
   ]
  },
  {
   "cell_type": "code",
   "execution_count": 16,
   "id": "a2d784d6-469a-4442-88d3-5f8ba4e0e84b",
   "metadata": {},
   "outputs": [],
   "source": [
    "dissolved_gdf = utils.dissolver_tot(gdf)"
   ]
  },
  {
   "cell_type": "markdown",
   "id": "1f79a8f1-7aec-46b3-bc19-c28fa816f833",
   "metadata": {},
   "source": [
    "## Calculate lengths and widths"
   ]
  },
  {
   "cell_type": "markdown",
   "id": "4e372144-0d40-4386-80a0-e1c8a7a815d4",
   "metadata": {},
   "source": [
    "### Average width calculation: \n",
    "Area is length times width for rectangles.  \n",
    "Perimeter is 2(length) + 2(width)  \n",
    "$A = lw$  \n",
    "$P = 2l+2w$  \n",
    "brings us to solve for width as   \n",
    "\n",
    "$P = 2\\frac{A}{w}+2w$ \n",
    "so  \n",
    "$w^2 -\\frac{P}{2}w+A = 0$"
   ]
  },
  {
   "cell_type": "code",
   "execution_count": 17,
   "id": "e9ac68de-25ac-43b0-8fa8-a9e3c5b3bd25",
   "metadata": {},
   "outputs": [],
   "source": [
    "dissolved_gdf = utils.widths_and_lengths(dissolved_gdf)"
   ]
  },
  {
   "cell_type": "code",
   "execution_count": null,
   "id": "93f0d634",
   "metadata": {},
   "outputs": [],
   "source": [
    "ints, roads = utils.ints_and_roads(dissolved_gdf)\n",
    "roads.width.describe()"
   ]
  },
  {
   "cell_type": "markdown",
   "id": "92a3d31b-75c2-40da-9714-19b622d5d4ae",
   "metadata": {},
   "source": [
    "## Create edgelist\n",
    "\n",
    "We make an edgelist of connected intersections, and assign each edge with an ID, a width and a length"
   ]
  },
  {
   "cell_type": "code",
   "execution_count": 19,
   "id": "acfa1dae-f21e-4a6d-8a0f-e74cc2169c11",
   "metadata": {},
   "outputs": [],
   "source": [
    "edgelist = utils.make_edgelist(dissolved_gdf)"
   ]
  },
  {
   "cell_type": "markdown",
   "id": "e0772736",
   "metadata": {},
   "source": [
    "### Length adjustments\n",
    "We would like our edges to also account for the length of the intersections, since intersections are \"collapsed\" into point objects in the graph.  \n",
    "This is a weighted average of the lengths of the two nodes connected by the edge. \n",
    "The weights are the number of times the node appears in the 'from' or 'to' column of the edgelist.  \n",
    "That is to say, a node with high degree will probably be a square/roundabout, so we distribute it's length evenly to all of it's edges."
   ]
  },
  {
   "cell_type": "code",
   "execution_count": 20,
   "id": "22820a8e",
   "metadata": {},
   "outputs": [],
   "source": [
    "# Create a dictionary for quick lookup of lengths in dissolved_gdf\n",
    "length_dict = dissolved_gdf.set_index('ID')['length'].to_dict()\n",
    "\n",
    "# Count occurrences of 'from' and 'to' in edgelist\n",
    "from_counts = edgelist['from'].value_counts().to_dict()\n",
    "to_counts = edgelist['to'].value_counts().to_dict()\n",
    "\n",
    "# Update the length in edgelist\n",
    "edgelist['length'] = edgelist.apply(lambda row: row['length'] + length_dict.get(row['from'], 0) / from_counts.get(row['from'], 1) \n",
    "                                    + length_dict.get(row['to'], 0) / to_counts.get(row['to'], 1), axis=1)\n",
    "# NB this is a weighted average of the lengths of the two nodes connected by the edge. \n",
    "# The weights are the number of times the node appears in the 'from' or 'to' column of the edgelist"
   ]
  },
  {
   "cell_type": "code",
   "execution_count": null,
   "id": "c34c2475",
   "metadata": {},
   "outputs": [],
   "source": [
    "# One example of a complex intersection can be seen here: \n",
    "# Its \"length\" is the base of the rectangle with the same area and perimeter as it,\n",
    "# so the approximation is not perfect, but it is better than not doing anything.\n",
    "\n",
    "dissolved_gdf[dissolved_gdf.ID == 'ID_6477'].explore()"
   ]
  },
  {
   "cell_type": "markdown",
   "id": "a78a475c-825c-491a-ae45-503b607ea6fb",
   "metadata": {
    "jp-MarkdownHeadingCollapsed": true
   },
   "source": [
    "## Create Graphs and assign attributes"
   ]
  },
  {
   "cell_type": "code",
   "execution_count": 22,
   "id": "1d4b7303-0f7c-424d-b73e-2a240ef63825",
   "metadata": {},
   "outputs": [
    {
     "name": "stdout",
     "output_type": "stream",
     "text": [
      "Graph:\n",
      "\tNumber of components: 12 \n",
      "\tlargest: 7093 nodes. \n",
      "\tsecond largest: 9 nodes. \n",
      "\tthird largest: 5 nodes. \n",
      "\ttotal: 7118 nodes.\n"
     ]
    }
   ],
   "source": [
    "# Create a MultiGraph from the edgelist\n",
    "G = nx.from_pandas_edgelist(edgelist, 'from', 'to', edge_attr=[\"width\", \"length\", \"ID\"] , create_using=nx.MultiGraph())\n",
    "# Store connected components in a list and sort them by size\n",
    "Gcc = sorted(nx.connected_components(G), key = len, reverse = True)\n",
    " \n",
    "print(\"Graph:\\n\"\n",
    "      \"\\tNumber of components:\",len(Gcc),\n",
    "      \"\\n\\tlargest:\",  len(Gcc[0]), \"nodes.\",\n",
    "      \"\\n\\tsecond largest:\" , len(Gcc[1]),\"nodes.\",\n",
    "      \"\\n\\tthird largest:\" ,len(Gcc[2]), \"nodes.\",\n",
    "      \"\\n\\ttotal:\", len(G), \"nodes.\"\n",
    "     )"
   ]
  },
  {
   "cell_type": "code",
   "execution_count": 23,
   "id": "b313d365-2de8-42ca-ac82-d9978cc141f2",
   "metadata": {},
   "outputs": [],
   "source": [
    "utils.calc_pos(dissolved_gdf, G);"
   ]
  },
  {
   "cell_type": "markdown",
   "id": "07eab31d-6a4e-4018-8549-27fc55860394",
   "metadata": {
    "jp-MarkdownHeadingCollapsed": true
   },
   "source": [
    "### Graph plot:\n",
    "\n",
    "We plot the graph network below. NB isolated nodes have been given a self loop to make them more visible in the plot. The loop has no geographical meaning."
   ]
  },
  {
   "cell_type": "code",
   "execution_count": null,
   "id": "019ea7a1-6f5a-4eba-9b4c-dd2721dfd626",
   "metadata": {},
   "outputs": [],
   "source": [
    "fig, ax = plt.subplots()\n",
    "utils.plot_nodes(G, save = False, ax = ax)\n",
    "plt.show()"
   ]
  },
  {
   "cell_type": "markdown",
   "id": "416de84b-801f-41ab-aa43-96c10d13a4dc",
   "metadata": {},
   "source": [
    "The large black clusters are all the regions where tangenziali are present.  The number of the nodes in the regions is correct, but all of them seem to be connected by these extremely long and identical edges."
   ]
  },
  {
   "cell_type": "markdown",
   "id": "2c2ef8e5-ee8d-4d90-aa88-0fb11e799774",
   "metadata": {
    "jp-MarkdownHeadingCollapsed": true
   },
   "source": [
    "### Removing nodes that are not in Gcc"
   ]
  },
  {
   "cell_type": "code",
   "execution_count": 25,
   "id": "f1566b3b-3db5-4d6c-ba5c-87d903203278",
   "metadata": {},
   "outputs": [],
   "source": [
    "G = G.subgraph(Gcc[0]).copy() #deep copy of subgraph of only largest connected component"
   ]
  },
  {
   "cell_type": "markdown",
   "id": "fd3ecca8-fca5-4d4e-a86f-b2fa0cb8e3cf",
   "metadata": {},
   "source": [
    "## Graph Attributes"
   ]
  },
  {
   "cell_type": "code",
   "execution_count": 26,
   "id": "c6ef4f12",
   "metadata": {},
   "outputs": [],
   "source": [
    "deg, cc, bc = utils.add_node_attributes(G)"
   ]
  },
  {
   "cell_type": "code",
   "execution_count": null,
   "id": "2260f190-f546-431f-b515-a1d2e8833583",
   "metadata": {},
   "outputs": [],
   "source": [
    "utils.hist_attribute(G, 'width', nbins = 20)"
   ]
  },
  {
   "cell_type": "markdown",
   "id": "ed961645",
   "metadata": {},
   "source": [
    "## Fixing betweenness problems\n",
    "right now, our graph has lots of nodes with 0 betweenness. this isn't a calculation error. it's due to the way lengths were calculated and the graph was built. \n",
    "We weigh our edges by length, so when calculating betweenness, we measure shortest paths in real distance, not topological distance. this means that there are two possible ways in which an edge can have 0 betweenness:  \n",
    "1) it's a multiedge, and the other edges between those two nodes weigh less (they're shorter)\n",
    "2) there is a path through other nodes that is shorter than the direct path from A to B (A--->C-->B < A-->B) \n",
    "The first aspect can be dealt with by collapsing our multiedges into single edges, with length averaged between all multiedges, and width summed. this corresponds to the case of a large street with more than one carriageway, which can be counted as one wide edge or as many smaller ones.  \n",
    "The second aspect can only happen if the edge between A and B is not a straight line. Furthermore, We count the length of intersections in our shortest paths, but in a heuristic way, so it can happen that (A--->C-->B < A-->B) if node C was a particularly long and complex intersection.  \n",
    "We partially solve this problem in the following section\n"
   ]
  },
  {
   "cell_type": "code",
   "execution_count": 28,
   "id": "be863e1d",
   "metadata": {},
   "outputs": [],
   "source": [
    "#collapse multigraph edges\n",
    "edgelist2 = edgelist.groupby(['from', 'to']).agg({\n",
    "   'width': 'sum', \n",
    "   'length': 'mean', \n",
    "   'ID': 'first'}).reset_index()\n",
    "\n",
    "G2 = nx.from_pandas_edgelist(edgelist2, 'from', 'to', edge_attr=[\"width\", \"length\", \"ID\"] , create_using=nx.MultiGraph())\n",
    "Gcc2 = sorted(nx.connected_components(G2), key = len, reverse = True)\n",
    "utils.calc_pos(dissolved_gdf, G2);\n",
    "G2 = G2.subgraph(Gcc2[0]).copy() "
   ]
  },
  {
   "cell_type": "code",
   "execution_count": 29,
   "id": "d41f44de",
   "metadata": {},
   "outputs": [],
   "source": [
    "def check_betweenness(G,bc_type = 'bc_edges'):\n",
    "   #returns edgelist of edges with betweenness centrality == 0\n",
    "\n",
    "   edgelist = nx.to_pandas_edgelist(G, edge_key = 'key')\n",
    "\n",
    "   # temp = edgelist[edgelist.bc_edges > 0]\n",
    "   # edgelist_iterable =  set(map(tuple, temp[['source','target','key']].values)) \n",
    "   # sub_G = G2.edge_subgraph(edgelist_iterable).copy()\n",
    "   temp2 = edgelist[edgelist[bc_type] == 0]\n",
    "   edgelist_iterable2 =  set(map(tuple, temp2[['source','target','key']].values))\n",
    "   sub_G2 = G.edge_subgraph(edgelist_iterable2).copy()\n",
    "   print('number of edges with betweenness centrality == 0:', len(temp2))\n",
    "   print('length of streets with 0 betweenness centrality:', temp2['length'].sum())\n",
    "   fig, ax = plt.subplots(figsize=(10, 10))\n",
    "   #plot_edges(sub_G, ax = ax,)\n",
    "   utils.plot_edges(sub_G2, ax = ax, color = 'blue')\n",
    "   plt.show()\n",
    "   return temp2"
   ]
  },
  {
   "cell_type": "code",
   "execution_count": 30,
   "id": "6e086f87",
   "metadata": {},
   "outputs": [],
   "source": [
    "#take all couples in temp2, calculate shortest path, length of shortest path, and compare it to length of the direct edge\n",
    "\n",
    "def compare_shortest_path(G, edgelist):\n",
    "   #takes in graph and edgelist, calculates shortest path between each couple of nodes in edgelist\n",
    "   #and compares it to the length of the direct edge\n",
    "    shortest_paths = []\n",
    "    shortest_path_lengths = []\n",
    "    direct_edge_lengths = []\n",
    "    keys = []\n",
    "    for i in range(len(edgelist)):\n",
    "        origin = edgelist.iloc[i]['source']\n",
    "        destination = edgelist.iloc[i]['target']\n",
    "        shortest_path = nx.shortest_path(G, origin, destination, weight = 'length')\n",
    "        shortest_paths.append(shortest_path)\n",
    "        shortest_path_length = nx.shortest_path_length(G, origin, destination, weight = 'length')\n",
    "        shortest_path_lengths.append(shortest_path_length)\n",
    "        direct_edge_length = edgelist.iloc[i]['length']\n",
    "        direct_edge_lengths.append(direct_edge_length)\n",
    "        keys.append(edgelist.iloc[i]['key'])\n",
    "    comparison_df = pd.DataFrame({\n",
    "                                    'shortest_path_length': shortest_path_lengths,\n",
    "                                    'direct_edge_length': direct_edge_lengths,\n",
    "                                    'shortest_path': shortest_paths,\n",
    "                                    'direct_edge': list(zip(edgelist.source, edgelist.target)),\n",
    "                                    'key' : keys\n",
    "                                    })\n",
    "    comparison_df['length_diff'] =  comparison_df['direct_edge_length']- comparison_df['shortest_path_length']\n",
    "    comparison_df['fraction_diff'] = comparison_df['length_diff']/comparison_df['direct_edge_length']\n",
    "    return comparison_df"
   ]
  },
  {
   "cell_type": "code",
   "execution_count": 31,
   "id": "8ff41ab7",
   "metadata": {},
   "outputs": [],
   "source": [
    "def hist_comparison(comparison_df):\n",
    "    plt.hist(comparison_df['length_diff'], bins=50, color='blue', alpha=0.7, edgecolor='black')\n",
    "    plt.xlabel('Length Difference')\n",
    "    plt.ylabel('Frequency')\n",
    "    plt.title('Histogram of Length Differences')\n",
    "    plt.show()"
   ]
  },
  {
   "cell_type": "code",
   "execution_count": 32,
   "id": "ffee9f05",
   "metadata": {},
   "outputs": [],
   "source": [
    "def shortest_path_visualizer(comparison_df, row_idx):\n",
    "   #VISUALIZATION TOOL, BUT DOESN'T ACTUALLY SOLVE ANY PROBLEMS\n",
    "   #take a single shortest path and direct edge, plot them over a basemap\n",
    "   \n",
    "   \n",
    "   row = comparison_df.iloc[row_idx]\n",
    "   direct_edge = row['direct_edge']\n",
    "   #create subgraphs of shortest path and direct edge\n",
    "   short_G = G.subgraph(row['shortest_path']).copy()\n",
    "   OD_G = G.subgraph(direct_edge).copy()\n",
    "   #also get surroundings of shortest path\n",
    "   #k = within_dist(dissolved_gdf[dissolved_gdf.ID.isin(row['shortest_path'])],row['shortest_path_length']/4 , dissolved_gdf)\n",
    "   fig, ax = plt.subplots(figsize=(10, 10))\n",
    "   #k.plot(color = 'grey', alpha = 0.4, ax = ax)\n",
    "   utils.plot_edges(short_G, color = 'green', ax = ax, alpha = 0.6)\n",
    "   utils.plot_edges(OD_G, color = 'red', ax = ax, alpha = 0.6)\n",
    "   plt.show()\n",
    "   "
   ]
  },
  {
   "cell_type": "markdown",
   "id": "ca44c047",
   "metadata": {},
   "source": [
    "We say that for all edges with 0 betweenness, if diff is < threshold % length, then i can assign the direct edge the length of the shortest path,\n",
    "and then re calc betweenness on G and see if it changes\n"
   ]
  },
  {
   "cell_type": "code",
   "execution_count": 33,
   "id": "930b7974",
   "metadata": {},
   "outputs": [],
   "source": [
    "def length_adjuster(comparison_df, threshold):\n",
    "   #for all edges with 0 betweenness, if diff is < threshold % length, then i can assign the direct edge the length\n",
    "\n",
    "   temp = comparison_df[comparison_df['fraction_diff'] < threshold/100]\n",
    "\n",
    "   comparison_df['adjusted_length'] = 1.0\n",
    "   for idx in comparison_df.index:\n",
    "      if idx in temp.index:\n",
    "         comparison_df.loc[idx, 'adjusted_length'] = comparison_df.loc[idx, 'shortest_path_length']\n",
    "      else:\n",
    "         comparison_df.loc[idx, 'adjusted_length'] = comparison_df.loc[idx, 'direct_edge_length']\n",
    "\n"
   ]
  },
  {
   "cell_type": "code",
   "execution_count": 34,
   "id": "3d701b25",
   "metadata": {},
   "outputs": [],
   "source": [
    "def graph_length_update(G, comparison_df):\n",
    "   #adjust lengths of edges in graph according to comparison_df\n",
    "      length_dict = {(row['direct_edge'][0], row['direct_edge'][1], row['key']): row['adjusted_length'] for _, row in comparison_df.iterrows()}\n",
    "      nx.set_edge_attributes(G, nx.get_edge_attributes(G,'length'), 'length_for_bc')\n",
    "      nx.set_edge_attributes(G, length_dict, 'length_for_bc')\n",
    "#watch it: the original G is a multigraph, so we need to update it while keeping track of keys too. \n",
    "# Either don't make g2 into a graph and go directly for this correction here, or, if you do, then update g2 as a graph, instead of updating g\n",
    "\n"
   ]
  },
  {
   "cell_type": "code",
   "execution_count": 35,
   "id": "a84e934e",
   "metadata": {},
   "outputs": [],
   "source": [
    "def add_edge_betweenness_new(G, weight = 'length_for_bc'):\n",
    "    _, possible_weights = utils.list_attributes(G)\n",
    "    if weight not in possible_weights:\n",
    "        print('weight must be one of', possible_weights)\n",
    "        \n",
    "    g = ig.Graph.from_networkx(G)\n",
    "    n = g.vcount()\n",
    "    temp = list(np.array(g.edge_betweenness(weights = weight))*(2/(n*(n-1)))) #use normalization of networkx formula\n",
    "    g.es['bc_edges_new'] = temp\n",
    "    H = g.to_networkx(create_using= nx.MultiGraph)\n",
    "    # for u, v, attr in H.edges(data=True): #i need to delete this extra attribute created when going to and from igraph\n",
    "    #         del attr['_igraph_index']\n",
    "    bc_edges = nx.get_edge_attributes(H, 'bc_edges_new')\n",
    "    nx.set_edge_attributes(G, bc_edges,'bc_edges_new')\n",
    "    return bc_edges"
   ]
  },
  {
   "cell_type": "code",
   "execution_count": null,
   "id": "f2571be7",
   "metadata": {},
   "outputs": [],
   "source": [
    "utils.add_edge_betweenness(G2);\n",
    "temp2 = check_betweenness(G2)"
   ]
  },
  {
   "cell_type": "code",
   "execution_count": 37,
   "id": "b28f5d85",
   "metadata": {},
   "outputs": [],
   "source": [
    "comparison_df = compare_shortest_path(G2, temp2)"
   ]
  },
  {
   "cell_type": "code",
   "execution_count": null,
   "id": "f0816696",
   "metadata": {},
   "outputs": [],
   "source": [
    "hist_comparison(comparison_df)"
   ]
  },
  {
   "cell_type": "code",
   "execution_count": null,
   "id": "e7444e09",
   "metadata": {},
   "outputs": [],
   "source": [
    "utils.hist_attribute(G2, 'bc_edges', nbins = 20)"
   ]
  },
  {
   "cell_type": "code",
   "execution_count": 40,
   "id": "c033a1de",
   "metadata": {},
   "outputs": [],
   "source": [
    "length_adjuster(comparison_df, 10) \n",
    "graph_length_update(G2, comparison_df)\n",
    "add_edge_betweenness_new(G2);"
   ]
  },
  {
   "cell_type": "markdown",
   "id": "f28b05ed",
   "metadata": {},
   "source": [
    "now, check to see what changed"
   ]
  },
  {
   "cell_type": "code",
   "execution_count": null,
   "id": "41512bc4",
   "metadata": {},
   "outputs": [],
   "source": [
    "utils.hist_attribute(G2, 'bc_edges_new', nbins = 20)"
   ]
  },
  {
   "cell_type": "code",
   "execution_count": null,
   "id": "796b0f9b",
   "metadata": {},
   "outputs": [],
   "source": [
    "temp = check_betweenness(G2, bc_type = 'bc_edges_new')"
   ]
  },
  {
   "cell_type": "code",
   "execution_count": null,
   "id": "1dab44e0",
   "metadata": {},
   "outputs": [],
   "source": [
    "comparison_df2 = compare_shortest_path(G2, temp2)\n",
    "hist_comparison(comparison_df2)"
   ]
  },
  {
   "cell_type": "code",
   "execution_count": null,
   "id": "19a3f1cc",
   "metadata": {},
   "outputs": [],
   "source": [
    "utils.plot_edge_attribute(G2, 'bc_edges_new', color_or_width = 'width')"
   ]
  },
  {
   "cell_type": "markdown",
   "id": "295ca1f6",
   "metadata": {},
   "source": [
    "With new betweenness methods we have very few streets with 0 betweenness, and we start to capture some of the structural characteristics of milan just by looking at betweenness (like the connection to cesano boscone and the ring-like structure)"
   ]
  },
  {
   "cell_type": "markdown",
   "id": "d7be2a32-2c1f-4841-8ed3-6aec9a918d40",
   "metadata": {},
   "source": [
    "## Saving preprocessed data\n",
    "The base network is now complete\n",
    "All that's left to do is :\n",
    "- save the preprocessed geodataframe as a gpkg\n",
    "- save the pandas edgelist as a csv\n",
    "- save the graph as a .gml file. This is all we really need to go on, but it's good to checkpoint the rest, too."
   ]
  },
  {
   "cell_type": "code",
   "execution_count": 45,
   "id": "075dd9c4-db7e-4452-8ba8-c2320ad54dd1",
   "metadata": {},
   "outputs": [
    {
     "data": {
      "text/plain": [
       "'/data/home/basilone/sony/Milan_Graphs_Basilone'"
      ]
     },
     "execution_count": 45,
     "metadata": {},
     "output_type": "execute_result"
    }
   ],
   "source": [
    "pwd"
   ]
  },
  {
   "cell_type": "code",
   "execution_count": 46,
   "id": "b480eba0-2c7a-46fe-b0d3-63f9748100f5",
   "metadata": {},
   "outputs": [],
   "source": [
    "import os\n",
    "\n",
    "# Create paths\n",
    "base_dir = 'MILANO/dataset_vehicles_preprocessed'\n",
    "gdf_path = os.path.join(base_dir, 'dissolved_roads.gpkg')\n",
    "edgelist_path = os.path.join(base_dir, 'edgelist.csv')\n",
    "graph_path = os.path.join(base_dir, 'base_network.gml')\n",
    "# Check if the directory exists, if not, create it\n",
    "if not os.path.exists(base_dir):\n",
    "    os.makedirs(base_dir)\n",
    "\n",
    "# Save files\n",
    "dissolved_gdf.to_file(gdf_path, driver='GPKG')\n",
    "edgelist.to_csv(edgelist_path, index=False)\n",
    "nx.write_gml(G2, graph_path)"
   ]
  }
 ],
 "metadata": {
  "kernelspec": {
   "display_name": "geopandas_env",
   "language": "python",
   "name": "python3"
  },
  "language_info": {
   "codemirror_mode": {
    "name": "ipython",
    "version": 3
   },
   "file_extension": ".py",
   "mimetype": "text/x-python",
   "name": "python",
   "nbconvert_exporter": "python",
   "pygments_lexer": "ipython3",
   "version": "3.10.13"
  }
 },
 "nbformat": 4,
 "nbformat_minor": 5
}
