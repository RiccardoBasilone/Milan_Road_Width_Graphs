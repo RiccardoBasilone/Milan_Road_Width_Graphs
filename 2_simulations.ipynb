{
 "cells": [
  {
   "cell_type": "markdown",
   "id": "631eac0e-5a48-473f-976a-9f2eb5358253",
   "metadata": {},
   "source": [
    "# Dedicated Lane Simulation\n",
    "In this notebook:\n",
    "- We load our graph from a .gml file, complete with node and edge attributes.  \n",
    "- We begin simulating the addition of a new network of dedicated fixed width lanes above our old one, in a few different cases\n",
    "Our main variables:\n",
    "- minimum car lane width (usually 3.5m, but we could try 7m for two lanes)\n",
    "- dedicated lane width w\n",
    "- km of dedicated lanes X\n",
    "\n",
    "  \n",
    "We create our subnetwork  with fixed car lane width (3.5m); once we pick a dedicated lane width w, we create the network keeping track of the total length of the streets (or fractional length) and checkpoint it various times.  \n",
    "So for example we'll have the case were w= 2.5m (think of two-way bike lanes) and we'll have a network of X km total, but we'll also save the network at fractions of X. \n",
    "For each checkpoint we save the base network with updated edges and edge widths and bc, and node attributes, and save the subnetwork, while recalculating node attributes and edge bc.  \n",
    "\n",
    "We fix car lane width: ideally a single lane is 3.5m, so we preserve at least one car lane per road, and test out different w for different X.  \n",
    "\n",
    "\n",
    "When we save the networks we can save edgelist as a csv with attributes, and node attribute dict for nodes. I think this takes up less space than saving each graph in .gml"
   ]
  },
  {
   "cell_type": "markdown",
   "id": "5cef1b3c-567b-40e3-b643-176cb9b790bd",
   "metadata": {},
   "source": []
  },
  {
   "cell_type": "code",
   "execution_count": null,
   "id": "d9540c7d-43c8-47f2-a31b-cfa886264929",
   "metadata": {
    "ExecuteTime": {
     "end_time": "2024-05-16T20:45:34.910611Z",
     "start_time": "2024-05-16T20:45:34.906646Z"
    }
   },
   "outputs": [],
   "source": [
    "import numpy as np\n",
    "import pandas as pd\n",
    "import geopandas as gpd\n",
    "import contextily as cx\n",
    "import matplotlib.pyplot as plt\n",
    "import networkx as nx\n",
    "import igraph as ig\n",
    "import json\n",
    "import utils"
   ]
  },
  {
   "cell_type": "code",
   "execution_count": null,
   "id": "85aa488f-4ba9-41bc-9334-c8492f0ca494",
   "metadata": {
    "ExecuteTime": {
     "end_time": "2024-05-16T18:02:00.058527Z",
     "start_time": "2024-05-16T18:01:58.407820Z"
    }
   },
   "outputs": [],
   "source": [
    "import os\n",
    "cwd = os.getcwd()\n",
    "graph_path = os.path.join(cwd, \"MILANO/dataset_vehicles_preprocessed/base_network.gml\")\n",
    "base_G = nx.read_gml(graph_path)\n"
   ]
  },
  {
   "cell_type": "code",
   "execution_count": null,
   "id": "f8787fd8-66ff-47db-810a-580219f8da57",
   "metadata": {},
   "outputs": [],
   "source": [
    "utils.plot_edges(base_G, save = False)"
   ]
  },
  {
   "cell_type": "markdown",
   "id": "038b10eb-2ca7-42f7-b939-9fd7b0d6f749",
   "metadata": {},
   "source": [
    "## Adding preferential bus lanes to the network\n"
   ]
  },
  {
   "cell_type": "markdown",
   "id": "0ce6ea5f-99e6-4d2a-8406-952222b27b43",
   "metadata": {},
   "source": [
    "We decide a number of km X, known as our budget and create a network as close as possible to that length.  \n",
    "To choose the edges, we rank them according to a score that keeps into account their width and their betweenness. \n",
    "we mix width and betweenness with a linear combination.  \n",
    "Width and betweenness are not directly comparable, so we must transform our data in some way. Since we're interested in creating a score to rank our networks, we rank each edge according to betweenness and width respectively. from there, we define the edge's p-value as  \n",
    "$1-rank/N$  \n",
    "where N is the number of edges in the network. This is a p-value because it is the fraction of edges ranked higher than the edge in question, which corresponds to the probability of sampling an edge with a higher ranking assuming the data's distribution is the observed on. This is the definition of a p-value.\n",
    "z-score computation happens before simulations begin, whereas final scores depend on the value of $\\alpha$ which is specific\n",
    "to the simulation.  \n",
    "After having computed s, edges are ranked in s, and simulations simply become a selection of the highest ranking edges until budget is satisfied. "
   ]
  },
  {
   "cell_type": "code",
   "execution_count": null,
   "id": "3855d564",
   "metadata": {},
   "outputs": [],
   "source": [
    "utils.list_attributes(base_G)"
   ]
  },
  {
   "cell_type": "code",
   "execution_count": null,
   "id": "927f7937",
   "metadata": {},
   "outputs": [],
   "source": [
    "# Apply the function to base_G\n",
    "utils.p_values(base_G)"
   ]
  },
  {
   "cell_type": "code",
   "execution_count": null,
   "id": "1c2f02e8",
   "metadata": {},
   "outputs": [],
   "source": [
    "def dbl_network_mixed(G, w, budget, alpha = 0.5, destructive = False, car_lane = 3.5):\n",
    "    #takes base network and performs simulation with mixed strategy.\n",
    "    #w is the width of the dedicated lane in metres\n",
    "    #budget is the total length of dedicated lane in km\n",
    "    # alpha is the mixing coefficient\n",
    "    #destructive = False means that base network edges can not be removed, and must be wide enough to have at least one car lane left.\n",
    "\n",
    "\n",
    "    G = G.copy()\n",
    "    threshold = w + car_lane\n",
    "    if destructive:\n",
    "        threshold = w\n",
    "    budget = budget*1000 #convert from km to m\n",
    "\n",
    "#create score ranking of edges\n",
    "    edgelist_base = nx.to_pandas_edgelist(G, edge_key = 'key')\n",
    "    edgelist = edgelist_base[edgelist_base.width > threshold].copy()#exclude edges that are too narrow\n",
    "    edgelist['score'] = alpha * edgelist['p_w'] + (1 - alpha) * edgelist['p_bc']\n",
    "    edgelist = edgelist.sort_values('score', ascending = False)\n",
    "    edgelist['old_index'] = edgelist.index #keep track of original index\n",
    "    edgelist = edgelist.reset_index(drop = True) #reset index to avoid issues with cumsum\n",
    "#respect budget\n",
    "    edgelist['cumsum'] = edgelist['length_for_bc'].cumsum()\n",
    "    budget_idx = edgelist[edgelist['cumsum'] > budget].index.min()\n",
    "    if pd.isna(budget_idx): #ugly exception handling but it's ok for now...\n",
    "        budget_idx = edgelist.index[-1]\n",
    "    if budget_idx is not None:\n",
    "        edgelist = edgelist.iloc[:budget_idx + 1] #include the first edge that passes the budget\n",
    "\n",
    "\n",
    "#CREATE SUBGRAPH\n",
    "    edgelist_iterable =  set(map(tuple, edgelist[['source','target','key']].values)) \n",
    "    sub_G = G.edge_subgraph(edgelist_iterable).copy()\n",
    "\n",
    "#UPDATE WIDTHS\n",
    "    # sub\n",
    "    w_dict_sub = {edge: w for edge in sub_G.edges(keys = True)}\n",
    "    nx.set_edge_attributes(sub_G, w_dict_sub, 'width') #assign width to subgraph\n",
    "    # base\n",
    "\n",
    "    #make the index of edgelist its old index column\n",
    "    edgelist.sort_values('old_index', inplace=True) #re-sort by original index\n",
    "    edgelist.set_index('old_index', inplace=True)\n",
    "    edgelist.width = w\n",
    "    temp = edgelist.width.reindex(edgelist_base.index, fill_value=0)\n",
    "    edgelist_base['width'] = edgelist_base['width'] - temp\n",
    "    attr = list(list(G.edges(data=True))[0][-1].keys())\n",
    "    G = nx.from_pandas_edgelist(edgelist_base, edge_attr = attr,create_using=nx.MultiGraph)\n",
    "\n",
    "    return G, sub_G"
   ]
  },
  {
   "cell_type": "markdown",
   "id": "d9697b7a",
   "metadata": {},
   "source": [
    "## Pseudocode for simulation Algorithm\n",
    "\n",
    "1. **Set width threshold**  \n",
    "   `threshold = w + min_car_lane`\n",
    "    We use `w = 2.5m` and `min_car_lane = 3.5m` in all simulations in this work.\n",
    "2. **Filter edges**  \n",
    "   - Keep only edges with width greater than the threshold.\n",
    "\n",
    "3. **Compute edge scores**  \n",
    "   - For each edge:  \n",
    "     `score = alpha * R_w + (1 - alpha) * R_b`\n",
    "\n",
    "4. **Sort edges by score (descending)**\n",
    "\n",
    "5. **Select edges within budget**  \n",
    "    - compute cumulative sum of lengths of edges\n",
    "    - Find the first edge where cumulative sum exceeds the budget.  \n",
    "    - Select all edges up to and including this edge.\n",
    "\n",
    "6. **Create subgraph from selected edges**\n",
    "    - This is the subgraph of bike lanes\n",
    "7. **Update widths in subgraph**  \n",
    "    - Set all widths of subgraph to `w`.\n",
    "\n",
    "8. **Update widths in base graph**  \n",
    "    - For each affected edge in base graph, subtract `w` from its width.\n",
    "9. **Return updated base graph and subgraph**"
   ]
  },
  {
   "cell_type": "markdown",
   "id": "fffa736e-b921-474c-8b93-36d0b057a9a3",
   "metadata": {},
   "source": [
    "### Single iteration\n"
   ]
  },
  {
   "cell_type": "markdown",
   "id": "2a4fb1e7-258e-4028-ae5c-9827df966eb1",
   "metadata": {},
   "source": [
    "So a single execution of the simulation starts from the base network, calls dbl_network to generate two new networks, updates node and edge attributes of both, then saves node attributes and edge attributes of both, in two dicts or two .csv files (saved from dataframes)"
   ]
  },
  {
   "cell_type": "code",
   "execution_count": null,
   "id": "0d4fdb7a-5eb3-4e59-9189-28bd107a2385",
   "metadata": {},
   "outputs": [],
   "source": [
    "cwd"
   ]
  },
  {
   "cell_type": "code",
   "execution_count": null,
   "id": "a5e5c1eb-9fbf-422b-98b4-986a87071d02",
   "metadata": {
    "ExecuteTime": {
     "end_time": "2024-05-16T21:13:18.984742Z",
     "start_time": "2024-05-16T21:13:17.280089Z"
    }
   },
   "outputs": [],
   "source": [
    "result_path = ''\n",
    "save_path = os.path.join(result_path, \"simulations\")\n",
    "graph_path = os.path.join(result_path, \"MILANO/dataset_vehicles_preprocessed/base_network.gml\")\n",
    "# make sure the save path exists\n",
    "if not os.path.exists(save_path):\n",
    "    os.makedirs(save_path)\n",
    "    \n",
    "base_G = nx.read_gml(graph_path)\n",
    "utils.p_values(base_G)"
   ]
  },
  {
   "cell_type": "code",
   "execution_count": null,
   "id": "5ee5aabc-c87b-44d1-a5a3-3c9cba2d177a",
   "metadata": {
    "ExecuteTime": {
     "end_time": "2024-05-12T22:44:44.639219Z",
     "start_time": "2024-05-12T22:43:12.738347Z"
    }
   },
   "outputs": [],
   "source": [
    "w = 2.5\n",
    "budget = 2\n",
    "alpha = 0\n",
    "destructive = False\n",
    "d = 'non_destructive' if not destructive else 'destructive'\n",
    "car_lane = 3.5\n",
    "G1, G2 = utils.dbl_network_mixed(base_G, w, budget, alpha, destructive, car_lane)\n",
    "utils.update_and_save(G1, G2, w, budget, alpha, d, car_lane, save_path = save_path)\n"
   ]
  },
  {
   "cell_type": "markdown",
   "id": "1a5e2fca-e902-4673-b25e-1b0f80c9cead",
   "metadata": {},
   "source": [
    "## Loop: \n",
    "This is the loop used to create the networks examined in Basilone et. al (2025). You can modify the parameter ranges as you wish"
   ]
  },
  {
   "cell_type": "code",
   "execution_count": null,
   "id": "39f0dd60-73e8-4006-8d30-2cca60867e80",
   "metadata": {
    "ExecuteTime": {
     "end_time": "2024-05-16T11:53:36.046045Z",
     "start_time": "2024-05-16T08:11:06.892937Z"
    },
    "scrolled": true
   },
   "outputs": [],
   "source": [
    "# NB this loop takes hours to run. \n",
    "\n",
    "import time\n",
    "start_time = time.time()\n",
    "save_path = os.path.join(result_path, \"simulations\")\n",
    "try:\n",
    "    w = 2.5\n",
    "    alpha_list = [0, 0.1, 0.3, 0.5, 0.7, 0.9, 1.0]\n",
    "    budget_list = list(np.arange(1,20,1))+ list(np.arange(20,200,10))+ list(np.arange(200, 1000, 40))\n",
    "    # budget_list =  list(np.arange(20,200,10))+ list(np.arange(200, 1000, 40))\n",
    "    \n",
    "    destructive_list = [False]\n",
    "    car_lane_list = [3.5]\n",
    "    for car_lane in car_lane_list:\n",
    "      for destructive in destructive_list:\n",
    "            for alpha in alpha_list:\n",
    "               print('simulating at alpha = ', alpha, 'w =', w)\n",
    "               for budget in budget_list:\n",
    "                  d = 'non_destructive' if not destructive else 'destructive'\n",
    "                  G1, G2 = utils.dbl_network_mixed(base_G, w, budget, alpha, destructive, car_lane)\n",
    "                  utils.update_and_save(G1,G2,w,budget, alpha,d,car_lane, save_path = save_path)\n",
    "                  print('saved simulation for alpha = ', alpha, 'w =', w, 'budget =', budget)\n",
    "    pass\n",
    "finally:\n",
    "    end_time = time.time()\n",
    "    elapsed_time = end_time - start_time\n",
    "    print(f\"Elapsed time: {elapsed_time:.2f} seconds\")"
   ]
  },
  {
   "cell_type": "markdown",
   "id": "86680261-0bda-45bd-9522-254ea83c0b3a",
   "metadata": {},
   "source": [
    "### Loading data:\n",
    "an example to see if the simulations were executed correctly"
   ]
  },
  {
   "cell_type": "code",
   "execution_count": null,
   "id": "de00b51c-d524-499d-bef1-5a7e57861cd6",
   "metadata": {},
   "outputs": [],
   "source": [
    "w = 2.5\n",
    "alpha = 0\n",
    "budget = 2 \n",
    "strategy = 'bc' \n",
    "destructive = False \n",
    "d = 'non_destructive' if not destructive else 'destructive'\n",
    "car_lane = 3.5\n",
    "base_or_sub = 'baseG'\n",
    "load_path = f'simulations/car_lane={car_lane}/{d}/w={w}/alpha={alpha}'"
   ]
  },
  {
   "cell_type": "code",
   "execution_count": null,
   "id": "168c6554",
   "metadata": {},
   "outputs": [],
   "source": [
    "base_G = utils.load_data(load_path, base_or_sub, budget)"
   ]
  }
 ],
 "metadata": {
  "kernelspec": {
   "display_name": "geopandas_env",
   "language": "python",
   "name": "python3"
  },
  "language_info": {
   "codemirror_mode": {
    "name": "ipython",
    "version": 3
   },
   "file_extension": ".py",
   "mimetype": "text/x-python",
   "name": "python",
   "nbconvert_exporter": "python",
   "pygments_lexer": "ipython3",
   "version": "3.10.13"
  }
 },
 "nbformat": 4,
 "nbformat_minor": 5
}
