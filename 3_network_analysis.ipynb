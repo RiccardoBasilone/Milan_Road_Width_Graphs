{
 "cells": [
  {
   "cell_type": "markdown",
   "id": "3b29beea-7b5f-45e7-82fd-bb3ba21049a7",
   "metadata": {},
   "source": [
    "# Network analysis\n",
    "In this notebook:\n",
    "- We analyze percolation of our simulation, keeping track of percolation thresh, number of components, size of the largest component.\n",
    "- We explore the concept of coarse-graining our simulations (in analogy to noising). This is of interest in real world contexts\n",
    "- We calculate two metrics present in Natera (2020) and Szell (2022), Directness and Coverage, to evaluate our simulations\n",
    "- We calculate the impact of our simulations on the drivable network, by calculating how many roads go from two to one way."
   ]
  },
  {
   "cell_type": "markdown",
   "id": "5db3bad4",
   "metadata": {},
   "source": [
    "NB to use effectively, the locations of your simulations and notebooks should be\n",
    "\n",
    "this notebook: network_analysis.ipynb\n",
    "data sets: MILANO>dataset_vehicles_preprocessed>your.data.file\n",
    "simulation results: MILANO>simulations>your.simulation.results\n",
    "\n",
    "the simulations are stored in folders formatted as such: car_lane={car_lane}>{d}>w={w}>alpha={alpha}>file.name_budget={budget}  \n",
    "The car_lane variable is equal to 3.5 for all simulations that were run for the paper, but other values are acceptable.  \n",
    "load path doesn't need to be specified in the budget, as the \"load_data\" function takes budget as its final variable.  \n",
    "\n",
    "example load path:\n",
    "\n",
    "load_path = os.path.join(os.getcwd(),'MILANO/simulation/car_lane=3.5/non_destructive/w=2.5/alpha=0.5)  \n",
    "G = load_data(load_path,'baseG',budget)"
   ]
  },
  {
   "cell_type": "markdown",
   "id": "1c8926ba-f492-44f9-9233-a23d08b2aea5",
   "metadata": {},
   "source": [
    "### Imports and function definitions"
   ]
  },
  {
   "cell_type": "code",
   "execution_count": null,
   "id": "d9f36d66-1d64-46a4-8e24-c9c7c800feb6",
   "metadata": {},
   "outputs": [],
   "source": [
    "import numpy as np\n",
    "import pandas as pd\n",
    "import geopandas as gpd\n",
    "import matplotlib.pyplot as plt\n",
    "import networkx as nx\n",
    "import matplotlib.colors as mcolors\n",
    "import igraph as ig\n",
    "import itertools\n",
    "import json\n",
    "import os\n",
    "import contextily as cx\n",
    "import importlib\n",
    "import utils\n",
    "importlib.reload(utils)"
   ]
  },
  {
   "cell_type": "code",
   "execution_count": null,
   "id": "8a69dc7a",
   "metadata": {},
   "outputs": [],
   "source": [
    "ITALY_crs = 6875"
   ]
  },
  {
   "cell_type": "markdown",
   "id": "1432f504",
   "metadata": {},
   "source": [
    "## Loading data\n"
   ]
  },
  {
   "cell_type": "code",
   "execution_count": null,
   "id": "76a42272-5ec1-488d-828e-e70686740b86",
   "metadata": {},
   "outputs": [],
   "source": [
    "cwd = os.getcwd()\n",
    "graph_path = os.path.join(cwd, \"MILANO/dataset_vehicles_preprocessed/base_network.gml\")\n",
    "base_G = nx.read_gml(graph_path)"
   ]
  },
  {
   "cell_type": "code",
   "execution_count": null,
   "id": "e6e4a7b6-007f-45bb-a9c3-2493a79adac7",
   "metadata": {},
   "outputs": [],
   "source": [
    "G = base_G.copy()"
   ]
  },
  {
   "cell_type": "code",
   "execution_count": null,
   "id": "212a3985",
   "metadata": {},
   "outputs": [],
   "source": [
    "_, edge_attributes = utils.list_attributes(G)\n",
    "if('p_w' in edge_attributes):\n",
    "   print('p_values already calculated')\n",
    "else:\n",
    "   utils.p_values(G)"
   ]
  },
  {
   "cell_type": "markdown",
   "id": "be00053b-5ef6-4b70-9deb-4175849c20d0",
   "metadata": {},
   "source": [
    "## 1) Percolation analysis\n",
    "percolation thresholds and size of gcc for single alphas and widths   "
   ]
  },
  {
   "cell_type": "markdown",
   "id": "777815f4",
   "metadata": {},
   "source": [
    "This is a series of functions written specifically to look at percoaltion, over a range of budgets for a range of alphas.  \n",
    "percolation results are returned.  \n",
    "Further below you can find a function that doesn't store results, but introduces a form of noise to the simulations."
   ]
  },
  {
   "cell_type": "markdown",
   "id": "5519ccfc",
   "metadata": {},
   "source": [
    "### Example"
   ]
  },
  {
   "cell_type": "code",
   "execution_count": null,
   "id": "b1782e80-4848-41a5-9085-1f2fd540c0de",
   "metadata": {},
   "outputs": [],
   "source": [
    "# the example only works if you have completed the simulations in the last notebook\n",
    "\n",
    "alpha_list = [0, 0.1, 0.3, 0.5, 0.7, 0.9, 1.0]\n",
    "budget_list = list(np.arange(20,200,10))+ list(np.arange(200, 1000, 40))\n",
    "w = 2.5\n",
    "load_path_template = os.path.join(cwd, 'MILANO/simulations/car_lane=3.5/non_destructive/w={w}/alpha={alpha}')\n",
    "gcc_sizes, num_components, gcc_derivatives, percolation_thresholds = utils.calc_percolation(alpha_list, budget_list, load_path_template, w)"
   ]
  },
  {
   "cell_type": "markdown",
   "id": "4118eb43",
   "metadata": {},
   "source": [
    "### Plot"
   ]
  },
  {
   "cell_type": "code",
   "execution_count": null,
   "id": "56c8c58d-7efe-4124-9987-ae551f221696",
   "metadata": {},
   "outputs": [],
   "source": [
    "fig = utils.plot_gcc_and_components(alpha_list, budget_list, gcc_sizes, num_components)\n",
    "# fig.savefig(f'figures/gcc_and_components_width={w}.png', dpi = 200, bbox_inches = 'tight')"
   ]
  },
  {
   "cell_type": "code",
   "execution_count": null,
   "id": "e22bb62f-245f-4e8a-8b52-67dccf7f0485",
   "metadata": {},
   "outputs": [],
   "source": [
    "utils.save_percolation_results(gcc_sizes, num_components, gcc_derivatives, percolation_thresholds, 'percolation_analysis')"
   ]
  },
  {
   "cell_type": "code",
   "execution_count": null,
   "id": "5e80f95f-f517-4eb7-a820-dca7056fc998",
   "metadata": {},
   "outputs": [],
   "source": [
    "gcc_sizes, num_components, gcc_derivatives, percolation_thresholds = utils.load_percolation_results('percolation_analysis')"
   ]
  },
  {
   "cell_type": "markdown",
   "id": "35eed8a1",
   "metadata": {},
   "source": [
    "## 2) (Optional) Noising simulations: \n",
    "widths and betweennesses have few identical entries, but in practical contexts any ranking of roads by width or betweenness would have some coarse graining within it. These functions coarse grain the rankings and add a random selection element to them, allowing us to average over any number of simulations.  \n",
    "NB code is written so that baseG is loaded inside the calc function, not subG. simulations are \"redone\" in this case"
   ]
  },
  {
   "cell_type": "markdown",
   "id": "bbf55609",
   "metadata": {},
   "source": [
    "### Example\n"
   ]
  },
  {
   "cell_type": "code",
   "execution_count": null,
   "id": "caf9e955",
   "metadata": {},
   "outputs": [],
   "source": [
    "#example usage\n",
    "alpha_list = [0, 0.1, 0.3, 0.5, 0.7, 0.9, 1]\n",
    "budget_list = list(np.arange(1,20,20)) + list(np.arange(20,200,10))+ list(np.arange(200, 1000, 40))\n",
    "w = 2.5\n",
    "load_path_template = os.path.join(cwd, 'MILANO/simulations/car_lane=3.5/non_destructive/w={w}/alpha={alpha}')\n",
    "Gcc_sizes_dict, N_components_dict, var_Gcc_sizes_dict, var_N_components_dict = utils.noise_simulations(alpha_list, budget_list, load_path_template, w, n = 50)\n",
    "#save_noise_simulations(Gcc_sizes_dict, N_components_dict, var_Gcc_sizes_dict, var_N_components_dict, 'noise_simulations')\n"
   ]
  },
  {
   "cell_type": "code",
   "execution_count": null,
   "id": "55158514-b565-4ad0-aed5-6407af380ae4",
   "metadata": {},
   "outputs": [],
   "source": [
    "utils.save_noise_simulations(Gcc_sizes_dict, N_components_dict, var_Gcc_sizes_dict, var_N_components_dict, 'noise_simulations')"
   ]
  },
  {
   "cell_type": "code",
   "execution_count": null,
   "id": "9b24e17b",
   "metadata": {},
   "outputs": [],
   "source": [
    "fig = utils.plot_noised(Gcc_sizes_dict, N_components_dict, var_Gcc_sizes_dict, var_N_components_dict, alpha_list)\n"
   ]
  },
  {
   "cell_type": "markdown",
   "id": "2b901596",
   "metadata": {},
   "source": [
    "## 3) natera and szell metrics for evaluating simulations\n",
    "directness, coverage\n"
   ]
  },
  {
   "cell_type": "markdown",
   "id": "da1ca0e3",
   "metadata": {},
   "source": [
    "\n",
    "### i) directness.  \n",
    "it quantifies the average distance on the base network between two nodes over the average distance on the sub network.  \n",
    "for example if the average distance between two nodes on the subnetwork is 1.5 times the average distance on the base network, the directness is 0.666.  \n",
    "but how do you handle a pair of nodes that is only reachable from getting on the car network?  \n",
    "From what i understand, natera says \"if A and B are not connected by the bike network, then d_bike = infinity, so directness = d_car/d_bike --> 0\".\n",
    "sounds kind of brusque if you ask me but ok. They generate 1000 nodes and check all the distances.\n",
    "\n",
    "ideally my metric would take all pairs of nodes on the network, calculate the shortest path on the base network,\n",
    "and then the shortest path that stays on the subnetwork for as long as possible, and then calcs the ratio.  \n",
    "\n",
    "for example given A and B on the base network, the shortest path is easily calculated.  \n",
    "to get the shortest path while passing through the subnetwork i need to divde the path:\n",
    "first check if A is on the subnet, and on which component. if it not, find closest point of the subnet to A, and call it A_k, where k is the number of the component of the subnet it is on.  If it is, just label it as A_k\n",
    "then check if B is on the subnet. if it not, find closest point of the subnet to B, and call it B_j, where j is the cnumber of the component of the subnet it is on.  \n",
    "if k == j calc shortest path on the subnet.  \n",
    "else \n",
    "store lengths AA' and BB',"
   ]
  },
  {
   "cell_type": "markdown",
   "id": "051e509d",
   "metadata": {},
   "source": [
    "### Example\n"
   ]
  },
  {
   "cell_type": "code",
   "execution_count": null,
   "id": "d2d09177",
   "metadata": {},
   "outputs": [],
   "source": [
    "#NB takes a long time to run\n",
    "\n",
    "alpha_list = [0, 0.1, 0.3 ,0.5, 0.7, 0.9, 1.0\n",
    "              ]\n",
    "budget_list = list(np.arange(20, 200, 10)) + list(np.arange(200, 1000, 40))\n",
    "w = 2.5\n",
    "load_path_template = os.path.join(cwd, 'MILANO/simulations/car_lane=3.5/non_destructive/w={w}/alpha={alpha}')\n",
    "directness_dict = utils.calc_directness(alpha_list, budget_list, load_path_template, w, nsamples=1000, weight='length')\n",
    "#save_directness(directness_dict, 'directness_dict.json')\n",
    "fig = utils.plot_directness(directness_dict, budget_list, alpha_list)"
   ]
  },
  {
   "cell_type": "code",
   "execution_count": null,
   "id": "3b91628c-bd92-4c4b-ad94-14ff3cb5aef3",
   "metadata": {},
   "outputs": [],
   "source": [
    "utils.save_directness(directness_dict, 'directness_dict.json')"
   ]
  },
  {
   "cell_type": "markdown",
   "id": "3964828b",
   "metadata": {},
   "source": [
    "### ii) Coverage\n",
    "Coverage: the definition of coverage according to Szell is: area of all grown structures + 500m buffer. I can't do that because i don't have the gdf of my networks. However, it's high time that i write a function that takes in the graph and gives the corresponding gdf from my original data set. it shouldn't be too hard, since i have edge id's from the edgelist\n"
   ]
  },
  {
   "cell_type": "markdown",
   "id": "51950fd1",
   "metadata": {},
   "source": [
    "### Example"
   ]
  },
  {
   "cell_type": "code",
   "execution_count": null,
   "id": "5fe9b9dc",
   "metadata": {},
   "outputs": [],
   "source": [
    "# take about 3 minutes to run\n",
    "alpha_list = [0, 0.1, 0.3, 0.5, 0.7, 0.9, 1.0\n",
    "              ]\n",
    "budget_list = list(np.arange(20, 200, 10)) + list(np.arange(200, 1000, 40))\n",
    "w = 2.5\n",
    "load_path_template = os.path.join(cwd, 'MILANO/simulations/car_lane=3.5/non_destructive/w={w}/alpha={alpha}')\n",
    "dissolved_gdf = gpd.read_file(os.path.join(cwd,'MILANO/dataset_vehicles_preprocessed/dissolved_roads.gpkg'))\n",
    "coverage_dict = utils.calc_coverages(alpha_list, budget_list, load_path_template, w, dissolved_gdf)\n",
    "fig = utils.plot_coverages(coverage_dict, alpha_list, budget_list)"
   ]
  },
  {
   "cell_type": "code",
   "execution_count": null,
   "id": "d80e014c-ddbb-4d49-b7d2-8ac55179477f",
   "metadata": {},
   "outputs": [],
   "source": [
    "utils.save_coverages(coverage_dict, 'coverage_dict.json')"
   ]
  },
  {
   "cell_type": "markdown",
   "id": "e9f1e53c-c54f-41a7-9426-63e2b8943366",
   "metadata": {},
   "source": [
    "## 4) Car lane preservation after simulations\n",
    "To estimate the impact of bike lane construction on automobile traffic, we would need to simulate car flow.  \n",
    "In the absence of this, we can look at how the structure of the network itself may impact automobiles.  \n",
    "The amount of one way edges in a network is connected to the creation of jams and congestion (Carmona et al., 2020).  \n",
    "we use the Italian transport code (codice della strada) to say that all lanes must be at least 2.75m wide on residential roads, and at least 3.5m wide on primary roads.  \n",
    "With this in mind, all roads with a width smaller than 5.5m can absolutely not be two way streets, and more in general two way streets will usually be at least 7m wide.  \n",
    "We assume all streets wider than 7m to be two way streets, and all the ones narrower than 7m to be one way.  \n",
    "Therefore, measuring the amount of streets going from wider to narrower than 7m before and after our simulations is a measure of impact on the drivable network.\n"
   ]
  },
  {
   "cell_type": "markdown",
   "id": "822f10c1",
   "metadata": {},
   "source": [
    "### Example"
   ]
  },
  {
   "cell_type": "code",
   "execution_count": null,
   "id": "75ce545b",
   "metadata": {},
   "outputs": [],
   "source": [
    "alpha_list = [0, 0.1, 0.3 ,0.5, 0.7, 0.9, 1.0]\n",
    "budget_list = list(np.arange(20, 200, 10)) + list(np.arange(200, 1000, 40))\n",
    "w = 2.5\n",
    "load_path_template = os.path.join(cwd, 'MILANO/simulations/car_lane=3.5/non_destructive/w={w}/alpha={alpha}')\n",
    "impacted_edges_dict = utils.calc_car_impact(budget_list, alpha_list, load_path_template, w = 2.5)\n",
    "fig = utils.plot_car_impact(impacted_edges_dict, alpha_list, budget_list)"
   ]
  },
  {
   "cell_type": "code",
   "execution_count": null,
   "id": "1ae5172f-a767-4df0-b9b1-8684402a2331",
   "metadata": {},
   "outputs": [],
   "source": [
    "utils.save_car_impact(impacted_edges_dict, 'impacted_edges_dict.json')"
   ]
  },
  {
   "cell_type": "markdown",
   "id": "0ad30d58",
   "metadata": {},
   "source": [
    "## 5) Plotting parameter space\n",
    "in this cell we plot parameter space (alpha, budget) and make two color maps of directness and of preserved/impacted lanes respectively. \n",
    "We want budget on the x axis, $\\alpha$ on the y axis, and colors for the value of the observable.  \n",
    "Our results dicts have $\\alpha$ as keys, and lists of measurements for each budget value as values.  \n",
    "We first convert them to dataframes, then plot"
   ]
  },
  {
   "cell_type": "code",
   "execution_count": null,
   "id": "3011a8ae",
   "metadata": {},
   "outputs": [],
   "source": [
    "\n",
    "budget_list = list(np.arange(20, 200, 10)) + list(np.arange(200, 1000, 40))\n",
    "directness_dict = utils.load_directness('directness_dict.json')\n",
    "impacted_edges_dict = utils.load_car_impact('impacted_edges_dict.json')\n",
    "\n",
    "# convert directness_dict and car impact dict to df\n",
    "directness_df = utils.dict_to_df(directness_dict, budget_list)\n",
    "impacted_edges_df = utils.dict_to_df(impacted_edges_dict, budget_list)\n",
    "# Plot the colored maps\n",
    "fig1 = utils.plot_colored_map(directness_df, attribute='Directness')\n",
    "fig2 = utils.plot_colored_map(impacted_edges_df, attribute = 'Impacted Edges (%)')\n",
    "# Save the figures\n",
    "fig1.savefig('directness_colored_map.png', dpi=300, bbox_inches='tight')\n",
    "fig2.savefig('impacted_edges_colored_map.png', dpi=300, bbox_inches='tight')"
   ]
  },
  {
   "cell_type": "markdown",
   "id": "2e04b097",
   "metadata": {},
   "source": [
    "## 6) mapping impacted streets\n",
    "we know that, since our simulations apply a 2.5m bike lane to affected edges, than those counted as impacted, i.e. going from more than 7m wide to less than 7m wide, will all have width between 7m and 9.5m in the base graph.  \n",
    "We show the potentially impacted edges on a map, and then color them by score to see which ones would be impacted first.  \n"
   ]
  },
  {
   "cell_type": "code",
   "execution_count": null,
   "id": "64d7b90c",
   "metadata": {},
   "outputs": [],
   "source": [
    "# let's check what the plot suggests for alpha = 1.0\n",
    "# it seems there are 600 km of roads wider than 9.5m. let's verify this\n",
    "G1 = base_G.copy()\n",
    "edge1 = nx.to_pandas_edgelist(G1, edge_key='key')\n",
    "edge1 = edge1[edge1['width'] > 9.5]\n",
    "edge1['cumlength'] = edge1['length_for_bc'].cumsum()\n",
    "total_length = edge1['cumlength'].iloc[-1] / 1000  # Convert to km\n",
    "print(f'Total length of edges with width > 9.5m: {total_length:.2f} km')"
   ]
  },
  {
   "cell_type": "code",
   "execution_count": null,
   "id": "31fb7985",
   "metadata": {},
   "outputs": [],
   "source": [
    "# Let's see what the plot suggests for alpha = 0.0\n",
    "# Take the roads from the base graph and rank them by p_bc. If we look at the first 200 km of roads,\n",
    "# we should find that about 4% of them have a width between 7 and 9.5m\n",
    "G1 = base_G.copy()\n",
    "utils.p_values(G1)\n",
    "edge1 = nx.to_pandas_edgelist(G1, edge_key='key')\n",
    "edge1 = edge1.sort_values('p_bc', ascending=False).reset_index(drop=True)\n",
    "edge1['cumlength'] = edge1['length_for_bc'].cumsum()\n",
    "# total_length = edge1['cumlength'].iloc[-1] / 1000  # Convert to km\n",
    "edge1 = edge1[edge1['cumlength'] < 200000]  # Keep only the first 200 km\n",
    "temp = edge1[edge1['width'] > 7]\n",
    "temp = temp[temp['width'] < 9.5]\n",
    "frac_length = len(temp) / len(G1.edges) * 100\n",
    "print(f'Fraction of edges with width between 7 and 9.5m in the first 200 km: {frac_length:.2f}%')"
   ]
  },
  {
   "cell_type": "markdown",
   "id": "8abfd3dd",
   "metadata": {},
   "source": [
    "let's look at the graph now. in particular i'd like to see the betweenness distribution of the streets in this graph"
   ]
  },
  {
   "cell_type": "code",
   "execution_count": null,
   "id": "a1ff222b",
   "metadata": {},
   "outputs": [],
   "source": [
    "edgelist = nx.to_pandas_edgelist(G, edge_key='key')\n",
    "# only keep edges with width between 7 and 9.5m\n",
    "possible_impacted = edgelist[(edgelist['width'] >= 7) & (edgelist['width'] <= 9.5)]\n",
    "# create iterable of these edges\n",
    "edge_iterable = set(map(tuple, possible_impacted[['source', 'target', 'key']].values))\n",
    "# create subgraph with these edges\n",
    "impactable_G = G.edge_subgraph(edge_iterable).copy()"
   ]
  },
  {
   "cell_type": "markdown",
   "id": "2814c79d",
   "metadata": {},
   "source": [
    "If we want to see the probability of these edges being part of a simulation for a given alpha, we can:  \n",
    "- choose a value for $\\alpha$\n",
    "- calculate the score of the edges as $s = \\alpha p_{w} + (1-\\alpha) p_{bc}$\n",
    "- plot the edges their scores colormapped  \n",
    "\n",
    "The case where $\\alpha = 0$ corresponds to a full betweenness strategy, whereas the case where $\\alpha = 1$ is a full width strategy "
   ]
  },
  {
   "cell_type": "code",
   "execution_count": null,
   "id": "4c2d2849",
   "metadata": {},
   "outputs": [],
   "source": [
    "utils.plot_impactable_edges(0, impactable_G, save = True, width = 1, dpi = 200)  "
   ]
  },
  {
   "cell_type": "code",
   "execution_count": null,
   "id": "dbb86b18",
   "metadata": {},
   "outputs": [],
   "source": [
    "alpha = 0\n",
    "budget = 200\n",
    "fig = utils.plot_impacted_edges(alpha, budget, impactable_G, color = 'red', save = False, width = 1, dpi = 300)\n",
    "# plt.savefig(f'impacted_edges_alpha={alpha}_budget={budget}.png', dpi = 300, bbox_inches='tight')"
   ]
  },
  {
   "cell_type": "markdown",
   "id": "4c66698f",
   "metadata": {},
   "source": [
    "## 7) Directness compared to preserved edges for varying alpha\n"
   ]
  },
  {
   "cell_type": "code",
   "execution_count": null,
   "id": "cc9c285c",
   "metadata": {},
   "outputs": [],
   "source": [
    "\n",
    "fig = utils.plot_directness_and_car_impact(alpha_list, 400, directness_dict, impacted_edges_dict)\n",
    "fig.savefig('directness_and_car_impact_budget=400.png', dpi=300)"
   ]
  },
  {
   "cell_type": "markdown",
   "id": "5722c9ff",
   "metadata": {},
   "source": [
    "## Future work"
   ]
  },
  {
   "cell_type": "markdown",
   "id": "1ca2bc7a-8bf8-47dd-b162-04213b9faf3c",
   "metadata": {},
   "source": [
    "### Efficiency Calculation \n",
    "As introduced by Latora (2001), but also carried out in Szell (2022).  \n",
    "Remember, efficiency is a measure of the speed of information transmission throughout the network (i.e flow).  \n",
    "When a network is a small world, the average paths between pairs are short, but the networks are also highly clustered.  \n",
    "We can define efficiency (global) as the average of the inverse shortest distance between nodes i and j, i.e  \n",
    "$\\epsilon_{ij} = 1/d_{ij}$,  \n",
    "and $E_{glob} = \\sum_{i\\ne j} \\frac{\\epsilon_{ij}}{N(N-1)}$.   \n",
    "Note that a fully connected network (all nodes connected by edges) would have a maximum possible efficiency \n",
    "We can also define local efficiency as the average for all nodes of the global efficiencies of all subgraphs-of-neighbors:  \n",
    "$E_{loc} = \\sum_{i = 1}^N \\frac{1}{N} E_{glob}(G_i)$  \n",
    "where $G_i$ is the graph of the neighbors of $i$. This measures the connectivity of $i$'s neighbors if i is not present, i.e. it's a measure of resilience and fault tollerance.  \n",
    "\n",
    "In general, a good transportation network should have good global efficiency, making it easy to travel across the network as a whole, whereas local efficiency can be a desirable but unneccesary trait (see subway networks).  "
   ]
  },
  {
   "cell_type": "markdown",
   "id": "06cfd550-d0b4-440c-b8f2-1436ef27f6a0",
   "metadata": {},
   "source": [
    "to calculate network global efficiency:  \n",
    "- calculate all shortest paths between nodes (n.b if no path from i to j, make distance infinity).\n",
    "- sum the inverses (inverse of infinity is 0) and divide by N(N-1) for pairs of nodes to get efficiency.\n",
    "- calculate normalization: fully connected graph --> all physical distances between nodes\n",
    "- normalize\n"
   ]
  },
  {
   "cell_type": "markdown",
   "id": "0824d411-27ea-4c25-a61e-b435be500e47",
   "metadata": {},
   "source": [
    "### first/last portion calculation\n",
    "we want to calculate how much time is spent inside the subnetwork for the average trip.\n",
    "ideas: function to find all pairs of nodes on baseG. routing function that calculates list of edges from A to B (possibly weighted, if not just sum weights of list after); obviously using shortest path. Calc lengths of edges in subG and save result.\n",
    "length(subG edges)/length(baseG edges) is our number for each pair A B (or even un normalized). average of all these is our result\n",
    "\n",
    "\n",
    "i can't use cugraph with 'all_pairs_shortest_path' algo because it doesn't supported weighted graphs (as of july 2024)  \n",
    "I can use igraph.distances"
   ]
  },
  {
   "cell_type": "markdown",
   "id": "665e7e6e",
   "metadata": {},
   "source": []
  }
 ],
 "metadata": {
  "kernelspec": {
   "display_name": "geopandas_env",
   "language": "python",
   "name": "python3"
  },
  "language_info": {
   "codemirror_mode": {
    "name": "ipython",
    "version": 3
   },
   "file_extension": ".py",
   "mimetype": "text/x-python",
   "name": "python",
   "nbconvert_exporter": "python",
   "pygments_lexer": "ipython3",
   "version": "3.10.13"
  }
 },
 "nbformat": 4,
 "nbformat_minor": 5
}
